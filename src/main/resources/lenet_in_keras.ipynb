{
 "cells": [
  {
   "cell_type": "markdown",
   "metadata": {},
   "source": [
    "# Deep Convolutional Neural Network in Keras"
   ]
  },
  {
   "cell_type": "markdown",
   "metadata": {},
   "source": [
    "In this notebook, we build a deep, convolutional, MNIST-classifying network inspired by [LeNet-5](http://yann.lecun.com/exdb/publis/pdf/lecun-01a.pdf) and [this example code](https://github.com/fchollet/keras/blob/master/examples/mnist_cnn.py)."
   ]
  },
  {
   "cell_type": "markdown",
   "metadata": {},
   "source": [
    "#### Set seed for reproducibility"
   ]
  },
  {
   "cell_type": "code",
   "execution_count": 1,
   "metadata": {
    "collapsed": true
   },
   "outputs": [],
   "source": [
    "import numpy as np\n",
    "np.random.seed(42)"
   ]
  },
  {
   "cell_type": "markdown",
   "metadata": {},
   "source": [
    "#### Load dependencies"
   ]
  },
  {
   "cell_type": "code",
   "execution_count": 35,
   "metadata": {},
   "outputs": [],
   "source": [
    "import keras\n",
    "from keras.datasets import mnist\n",
    "from keras.models import Sequential\n",
    "from keras.layers import Dense, Dropout\n",
    "from keras.layers import Flatten, Conv2D, MaxPooling2D # new!\n",
    "import matplotlib.pyplot as plt\n",
    "from PIL import Image\n",
    "from matplotlib import pyplot as plt"
   ]
  },
  {
   "cell_type": "markdown",
   "metadata": {},
   "source": [
    "#### Load data"
   ]
  },
  {
   "cell_type": "code",
   "execution_count": 3,
   "metadata": {
    "collapsed": true
   },
   "outputs": [],
   "source": [
    "#(X_train, y_train), (X_test, y_test) = mnist.load_data()\n",
    "import pickle\n",
    "X_train = pickle.load(open('../data/mnist/X_train.pkl', 'rb'))\n",
    "y_train = pickle.load(open('../data/mnist/y_train.pkl', 'rb'))\n",
    "X_test = pickle.load(open('../data/mnist/X_test.pkl', 'rb'))\n",
    "y_test = pickle.load(open('../data/mnist/y_test.pkl', 'rb')) "
   ]
  },
  {
   "cell_type": "markdown",
   "metadata": {},
   "source": [
    "#### Preprocess data"
   ]
  },
  {
   "cell_type": "code",
   "execution_count": 4,
   "metadata": {
    "collapsed": true
   },
   "outputs": [],
   "source": [
    "X_train = X_train.reshape(60000, 28, 28, 1).astype('float32')\n",
    "X_test = X_test.reshape(10000, 28, 28, 1).astype('float32')"
   ]
  },
  {
   "cell_type": "code",
   "execution_count": 5,
   "metadata": {
    "collapsed": true
   },
   "outputs": [],
   "source": [
    "X_train /= 255\n",
    "X_test /= 255"
   ]
  },
  {
   "cell_type": "code",
   "execution_count": 6,
   "metadata": {
    "collapsed": true
   },
   "outputs": [],
   "source": [
    "n_classes = 10\n",
    "y_train = keras.utils.to_categorical(y_train, n_classes)\n",
    "y_test = keras.utils.to_categorical(y_test, n_classes)"
   ]
  },
  {
   "cell_type": "markdown",
   "metadata": {},
   "source": [
    "#### Design neural network architecture"
   ]
  },
  {
   "cell_type": "code",
   "execution_count": 8,
   "metadata": {
    "collapsed": true
   },
   "outputs": [],
   "source": [
    "# CODE HERE\n",
    "model = Sequential()\n",
    "model.add(Conv2D(32, kernel_size=(3,3), activation='relu', input_shape=(28,28,1)))\n",
    "model.add(Conv2D(64, kernel_size=(3,3), activation='relu'))\n",
    "model.add(MaxPooling2D(pool_size=(2,2)))\n",
    "model.add(Dropout(0.2))\n",
    "model.add(Flatten())\n",
    "          \n",
    "model.add(Dense(128, activation='relu'))\n",
    "model.add(Dropout(0.5))\n",
    "\n",
    "model.add(Dense(n_classes, activation='softmax'))"
   ]
  },
  {
   "cell_type": "code",
   "execution_count": 9,
   "metadata": {},
   "outputs": [
    {
     "name": "stdout",
     "output_type": "stream",
     "text": [
      "_________________________________________________________________\n",
      "Layer (type)                 Output Shape              Param #   \n",
      "=================================================================\n",
      "conv2d_1 (Conv2D)            (None, 26, 26, 32)        320       \n",
      "_________________________________________________________________\n",
      "conv2d_2 (Conv2D)            (None, 24, 24, 64)        18496     \n",
      "_________________________________________________________________\n",
      "max_pooling2d_1 (MaxPooling2 (None, 12, 12, 64)        0         \n",
      "_________________________________________________________________\n",
      "dropout_1 (Dropout)          (None, 12, 12, 64)        0         \n",
      "_________________________________________________________________\n",
      "flatten_1 (Flatten)          (None, 9216)              0         \n",
      "_________________________________________________________________\n",
      "dense_1 (Dense)              (None, 128)               1179776   \n",
      "_________________________________________________________________\n",
      "dropout_2 (Dropout)          (None, 128)               0         \n",
      "_________________________________________________________________\n",
      "dense_2 (Dense)              (None, 10)                1290      \n",
      "=================================================================\n",
      "Total params: 1,199,882\n",
      "Trainable params: 1,199,882\n",
      "Non-trainable params: 0\n",
      "_________________________________________________________________\n"
     ]
    }
   ],
   "source": [
    "model.summary()"
   ]
  },
  {
   "cell_type": "markdown",
   "metadata": {},
   "source": [
    "#### Configure model"
   ]
  },
  {
   "cell_type": "code",
   "execution_count": 10,
   "metadata": {
    "collapsed": true
   },
   "outputs": [],
   "source": [
    "model.compile(loss='categorical_crossentropy', optimizer='adam', metrics=['accuracy'])"
   ]
  },
  {
   "cell_type": "markdown",
   "metadata": {},
   "source": [
    "#### Train!"
   ]
  },
  {
   "cell_type": "code",
   "execution_count": 11,
   "metadata": {},
   "outputs": [
    {
     "name": "stdout",
     "output_type": "stream",
     "text": [
      "Train on 60000 samples, validate on 10000 samples\n",
      "Epoch 1/20\n",
      "60000/60000 [==============================] - 196s - loss: 0.2427 - acc: 0.9262 - val_loss: 0.0515 - val_acc: 0.9838\n",
      "Epoch 2/20\n",
      "60000/60000 [==============================] - 197s - loss: 0.0856 - acc: 0.9742 - val_loss: 0.0414 - val_acc: 0.9855\n",
      "Epoch 3/20\n",
      "60000/60000 [==============================] - 193s - loss: 0.0630 - acc: 0.9809 - val_loss: 0.0382 - val_acc: 0.9872\n",
      "Epoch 4/20\n",
      "60000/60000 [==============================] - 196s - loss: 0.0519 - acc: 0.9836 - val_loss: 0.0290 - val_acc: 0.9904\n",
      "Epoch 5/20\n",
      "60000/60000 [==============================] - 193s - loss: 0.0440 - acc: 0.9860 - val_loss: 0.0299 - val_acc: 0.9916\n",
      "Epoch 6/20\n",
      "60000/60000 [==============================] - 196s - loss: 0.0380 - acc: 0.9878 - val_loss: 0.0277 - val_acc: 0.9913\n",
      "Epoch 7/20\n",
      "60000/60000 [==============================] - 196s - loss: 0.0332 - acc: 0.9895 - val_loss: 0.0300 - val_acc: 0.9905\n",
      "Epoch 8/20\n",
      "60000/60000 [==============================] - 199s - loss: 0.0304 - acc: 0.9902 - val_loss: 0.0276 - val_acc: 0.9918\n",
      "Epoch 9/20\n",
      "60000/60000 [==============================] - 193s - loss: 0.0292 - acc: 0.9904 - val_loss: 0.0279 - val_acc: 0.9920\n",
      "Epoch 10/20\n",
      "60000/60000 [==============================] - 195s - loss: 0.0246 - acc: 0.9920 - val_loss: 0.0316 - val_acc: 0.9907\n",
      "Epoch 11/20\n",
      "60000/60000 [==============================] - 198s - loss: 0.0232 - acc: 0.9923 - val_loss: 0.0264 - val_acc: 0.9922\n",
      "Epoch 12/20\n",
      "60000/60000 [==============================] - 199s - loss: 0.0223 - acc: 0.9925 - val_loss: 0.0300 - val_acc: 0.9913\n",
      "Epoch 13/20\n",
      "60000/60000 [==============================] - 196s - loss: 0.0190 - acc: 0.9938 - val_loss: 0.0290 - val_acc: 0.9922\n",
      "Epoch 14/20\n",
      "60000/60000 [==============================] - 197s - loss: 0.0183 - acc: 0.9936 - val_loss: 0.0312 - val_acc: 0.9919\n",
      "Epoch 15/20\n",
      "60000/60000 [==============================] - 199s - loss: 0.0184 - acc: 0.9941 - val_loss: 0.0316 - val_acc: 0.9918\n",
      "Epoch 16/20\n",
      "60000/60000 [==============================] - 204s - loss: 0.0163 - acc: 0.9944 - val_loss: 0.0286 - val_acc: 0.9923\n",
      "Epoch 17/20\n",
      "60000/60000 [==============================] - 200s - loss: 0.0154 - acc: 0.9946 - val_loss: 0.0278 - val_acc: 0.9930\n",
      "Epoch 18/20\n",
      "60000/60000 [==============================] - 204s - loss: 0.0162 - acc: 0.9945 - val_loss: 0.0324 - val_acc: 0.9919\n",
      "Epoch 19/20\n",
      "60000/60000 [==============================] - 204s - loss: 0.0156 - acc: 0.9948 - val_loss: 0.0311 - val_acc: 0.9925\n",
      "Epoch 20/20\n",
      "60000/60000 [==============================] - 200s - loss: 0.0135 - acc: 0.9955 - val_loss: 0.0313 - val_acc: 0.9923\n"
     ]
    },
    {
     "data": {
      "text/plain": [
       "<keras.callbacks.History at 0x7f94939dde10>"
      ]
     },
     "execution_count": 11,
     "metadata": {},
     "output_type": "execute_result"
    }
   ],
   "source": [
    "model.fit(X_train, y_train, batch_size=128, epochs=20, verbose=1, validation_data=(X_test, y_test))"
   ]
  },
  {
   "cell_type": "code",
   "execution_count": 20,
   "metadata": {},
   "outputs": [
    {
     "data": {
      "text/plain": [
       "(1, 28, 28, 1)"
      ]
     },
     "execution_count": 20,
     "metadata": {},
     "output_type": "execute_result"
    }
   ],
   "source": [
    "np.array([X_test[0]]).shape"
   ]
  },
  {
   "cell_type": "code",
   "execution_count": 45,
   "metadata": {},
   "outputs": [
    {
     "name": "stdout",
     "output_type": "stream",
     "text": [
      "1/1 [==============================] - 0s\n"
     ]
    },
    {
     "data": {
      "text/plain": [
       "array([0])"
      ]
     },
     "execution_count": 45,
     "metadata": {},
     "output_type": "execute_result"
    }
   ],
   "source": [
    "model.predict_classes(np.array([X_test[3]]))"
   ]
  },
  {
   "cell_type": "code",
   "execution_count": 46,
   "metadata": {},
   "outputs": [
    {
     "data": {
      "text/plain": [
       "array([ 1.,  0.,  0.,  0.,  0.,  0.,  0.,  0.,  0.,  0.])"
      ]
     },
     "execution_count": 46,
     "metadata": {},
     "output_type": "execute_result"
    }
   ],
   "source": [
    "y_test[3]"
   ]
  },
  {
   "cell_type": "code",
   "execution_count": 49,
   "metadata": {},
   "outputs": [
    {
     "data": {
      "image/png": "[encoded data removed]",
      "text/plain": [
       "<matplotlib.figure.Figure at 0x7f933a7c4fd0>"
      ]
     },
     "metadata": {},
     "output_type": "display_data"
    }
   ],
   "source": [
    "img = Image.fromarray(X_test[1], 'HSV')\n",
    "plt.imshow(img)\n",
    "plt.show()"
   ]
  },
  {
   "cell_type": "code",
   "execution_count": 34,
   "metadata": {
    "collapsed": true
   },
   "outputs": [],
   "source": []
  },
  {
   "cell_type": "code",
   "execution_count": null,
   "metadata": {
    "collapsed": true
   },
   "outputs": [],
   "source": []
  }
 ],
 "metadata": {
  "kernelspec": {
   "display_name": "Python 3",
   "language": "python",
   "name": "python3"
  },
  "language_info": {
   "codemirror_mode": {
    "name": "ipython",
    "version": 3
   },
   "file_extension": ".py",
   "mimetype": "text/x-python",
   "name": "python",
   "nbconvert_exporter": "python",
   "pygments_lexer": "ipython3",
   "version": "3.6.2"
  }
 },
 "nbformat": 4,
 "nbformat_minor": 2
}
